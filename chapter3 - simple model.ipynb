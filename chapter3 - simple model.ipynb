{
 "metadata": {
  "language_info": {
   "codemirror_mode": {
    "name": "ipython",
    "version": 3
   },
   "file_extension": ".py",
   "mimetype": "text/x-python",
   "name": "python",
   "nbconvert_exporter": "python",
   "pygments_lexer": "ipython3",
   "version": "3.7.0-final"
  },
  "orig_nbformat": 2,
  "kernelspec": {
   "name": "python_defaultSpec_1600447856013",
   "display_name": "Python 3.7.0 64-bit ('sci3.7': virtualenv)"
  }
 },
 "nbformat": 4,
 "nbformat_minor": 2,
 "cells": [
  {
   "source": [
    "# Chapter 3 \n",
    "\n",
    "Simulate a simple model with "
   ],
   "cell_type": "markdown",
   "metadata": {}
  },
  {
   "cell_type": "code",
   "execution_count": 1,
   "metadata": {},
   "outputs": [],
   "source": [
    "%matplotlib widget\n",
    "\n",
    "import matplotlib\n",
    "import numpy as np\n",
    "import matplotlib.pyplot as plt\n",
    "import pandas as pd\n",
    "\n",
    "plt.rcParams['figure.dpi'] = 100\n",
    "\n",
    "import itertools\n",
    "import string\n",
    "import random\n",
    "from types import SimpleNamespace, FunctionType\n",
    "from random import gauss\n",
    "\n",
    "from modelling import *"
   ]
  },
  {
   "cell_type": "code",
   "execution_count": 2,
   "metadata": {},
   "outputs": [],
   "source": [
    "# Define SIM model\n",
    "sim = Varspace()\n",
    "\n",
    "# Add parameter vars\n",
    "sim.theta = 0.2 # Tax rate\n",
    "sim.alpha1 = 0.6 # MPC of income\n",
    "sim.alpha2 = 0.4 # MPC of wealth\n",
    "\n",
    "# Add exogenous vars\n",
    "sim.G = TimeVar(\"Government exp.\")\n",
    "sim.W = TimeVar(\"Wages\")\n",
    "\n",
    "# Define equations\n",
    "sim.addEq('C', lambda t: alpha1 * YD(t) + alpha2 * Hh(t-1))\n",
    "sim.addEq('Y', lambda t: C(t) + G(t))\n",
    "sim.addEq('N', lambda t: Y(t) / W(t))\n",
    "sim.addEq('tax', lambda t: theta * W(t) * N(t))\n",
    "sim.addEq('YD', lambda t: W(t) * N(t) - tax(t))\n",
    "sim.addEq('Hs', lambda t: Hs(t-1) + G(t) - tax(t))\n",
    "sim.addEq('S', lambda t: YD(t) - C(t))\n",
    "sim.addEq('Hh', lambda t: Hh(t-1) + S(t))\n",
    "\n",
    "# Reset vars with values\n",
    "sim.setTime(100)\n",
    "sim.G.setTime(100, val = 20)\n",
    "sim.G.val[0:2] = 0\n",
    "sim.W.setTime(100, val = 1)\n",
    "\n",
    "# Simulate\n",
    "sim.run(t = range(1, 100), rep=20)"
   ]
  },
  {
   "cell_type": "code",
   "execution_count": 3,
   "metadata": {},
   "outputs": [
    {
     "output_type": "display_data",
     "data": {
      "text/plain": "Canvas(toolbar=Toolbar(toolitems=[('Home', 'Reset original view', 'home', 'home'), ('Back', 'Back to previous …",
      "application/vnd.jupyter.widget-view+json": {
       "version_major": 2,
       "version_minor": 0,
       "model_id": "a056b4ec239c492cbc8e0ac46e45d065"
      }
     },
     "metadata": {}
    },
    {
     "output_type": "execute_result",
     "data": {
      "text/plain": "<matplotlib.axes._subplots.AxesSubplot at 0x2094b171518>"
     },
     "metadata": {},
     "execution_count": 3
    }
   ],
   "source": [
    "# Plot\n",
    "res = pd.DataFrame.from_dict(sim.getRes())\n",
    "res[['C','Y', 'Hs', 'tax']].plot()"
   ]
  },
  {
   "cell_type": "code",
   "execution_count": null,
   "metadata": {},
   "outputs": [],
   "source": []
  }
 ]
}