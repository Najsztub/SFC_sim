{
 "metadata": {
  "language_info": {
   "codemirror_mode": {
    "name": "ipython",
    "version": 3
   },
   "file_extension": ".py",
   "mimetype": "text/x-python",
   "name": "python",
   "nbconvert_exporter": "python",
   "pygments_lexer": "ipython3",
   "version": "3.7.0-final"
  },
  "orig_nbformat": 2,
  "kernelspec": {
   "name": "python_defaultSpec_1600447855508",
   "display_name": "Python 3.7.0 64-bit ('sci3.7': virtualenv)"
  }
 },
 "nbformat": 4,
 "nbformat_minor": 2,
 "cells": [
  {
   "source": [
    "# Chapter 4\n",
    "\n",
    "Model with portfolio choice between holding cash and bills. "
   ],
   "cell_type": "markdown",
   "metadata": {}
  },
  {
   "cell_type": "code",
   "execution_count": 1,
   "metadata": {},
   "outputs": [],
   "source": [
    "%matplotlib widget\n",
    "\n",
    "import matplotlib\n",
    "import numpy as np\n",
    "import matplotlib.pyplot as plt\n",
    "import pandas as pd\n",
    "\n",
    "plt.rcParams['figure.dpi'] = 100\n",
    "\n",
    "import itertools\n",
    "import string\n",
    "import random\n",
    "from types import SimpleNamespace, FunctionType\n",
    "from random import gauss\n",
    "\n",
    "from modelling import *"
   ]
  },
  {
   "cell_type": "code",
   "execution_count": 2,
   "metadata": {},
   "outputs": [],
   "source": [
    "# Define SIM model\n",
    "modelpc = Varspace()\n",
    "\n",
    "# Add parameter vars\n",
    "modelpc.theta = 0.2 # Tax rate\n",
    "modelpc.alpha1 = 0.6 # MPC of income\n",
    "modelpc.alpha2 = 0.4 # MPC of wealth\n",
    "\n",
    "# Add coeffs\n",
    "modelpc.l0 = 0.5 # Proportion of money\n",
    "modelpc.l1 = 0.25\n",
    "modelpc.l2 = 0.25\n",
    "\n",
    "# Add exogenous vars\n",
    "modelpc.G = TimeVar(\"Government exp.\")\n",
    "modelpc.r = TimeVar(\"Interest rate\")\n",
    "\n",
    "# Define equations\n",
    "modelpc.addEq('Y', lambda t: C(t) + G(t))\n",
    "modelpc.addEq('YD', lambda t: Y(t) - T(t) + r(t-1) * Bh(t-1))\n",
    "modelpc.addEq('T', lambda t: theta * (Y(t) + r(t-1) * Bh(t-1)))\n",
    "modelpc.addEq('C', lambda t: alpha1 * YD(t) + alpha2 * V(t-1))\n",
    "modelpc.addEq('V', lambda t: V(t-1) + (YD(t) - C(t)))\n",
    "modelpc.addEq('Bh', lambda t: V(t) * l0 + V(t) * l1 * r(t) - l2 * YD(t))\n",
    "modelpc.addEq('Hh', lambda t: V(t) - Bh(t))\n",
    "# modelpc.addEq('Hh', lambda t: V(t) *(1-l0) - V(t) * l1 * r(t) + l2 * YD(t))\n",
    "modelpc.addEq('Bs', lambda t: (G(t) + r(t-1) * Bs(t-1)) - (T(t) + r(t-1) * Bcb(t-1)) + Bs(t-1))\n",
    "modelpc.addEq('Hs', lambda t: (Bcb(t) - Bcb(t-1)) + Hs(t-1))\n",
    "modelpc.addEq('Bcb', lambda t: Bs(t) - Bh(t))\n",
    "\n",
    "\n",
    "# Reset vars with values\n",
    "modelpc.setTime(100)\n",
    "modelpc.G.setTime(100, val = 20)\n",
    "modelpc.G.val[0:2] = 0\n",
    "modelpc.r.setTime(100, val = .025)\n",
    "\n",
    "# Simulate\n",
    "modelpc.run(t = range(1, 100), rep=20)"
   ]
  },
  {
   "cell_type": "code",
   "execution_count": 3,
   "metadata": {},
   "outputs": [
    {
     "output_type": "display_data",
     "data": {
      "text/plain": "Canvas(toolbar=Toolbar(toolitems=[('Home', 'Reset original view', 'home', 'home'), ('Back', 'Back to previous …",
      "application/vnd.jupyter.widget-view+json": {
       "version_major": 2,
       "version_minor": 0,
       "model_id": "85ca70316afd4434a4578952da565fa2"
      }
     },
     "metadata": {}
    },
    {
     "output_type": "execute_result",
     "data": {
      "text/plain": "Text(0.5, 0, 'Time')"
     },
     "metadata": {},
     "execution_count": 3
    }
   ],
   "source": [
    "# Plot\n",
    "pcres = pd.DataFrame.from_dict(modelpc.getRes())\n",
    "pcplot = pcres[['V', 'Hh', 'Bh']].plot()\n",
    "pcplot.set_title('Wealth and its components')\n",
    "pcplot.set_ylabel('Value')\n",
    "pcplot.set_xlabel('Time')"
   ]
  },
  {
   "cell_type": "code",
   "execution_count": 4,
   "metadata": {},
   "outputs": [
    {
     "output_type": "display_data",
     "data": {
      "text/plain": "Canvas(toolbar=Toolbar(toolitems=[('Home', 'Reset original view', 'home', 'home'), ('Back', 'Back to previous …",
      "application/vnd.jupyter.widget-view+json": {
       "version_major": 2,
       "version_minor": 0,
       "model_id": "c772880d2e994ecfbb5220b1026ca09c"
      }
     },
     "metadata": {}
    },
    {
     "output_type": "execute_result",
     "data": {
      "text/plain": "<matplotlib.axes._subplots.AxesSubplot at 0x16ec7adacc0>"
     },
     "metadata": {},
     "execution_count": 4
    }
   ],
   "source": [
    "# Plot \n",
    "pcres[['Bs', 'Bcb', 'Hs']].plot()"
   ]
  },
  {
   "source": [
    "Change the value of MPC out of income."
   ],
   "cell_type": "markdown",
   "metadata": {}
  },
  {
   "cell_type": "code",
   "execution_count": 5,
   "metadata": {},
   "outputs": [
    {
     "output_type": "display_data",
     "data": {
      "text/plain": "Canvas(toolbar=Toolbar(toolitems=[('Home', 'Reset original view', 'home', 'home'), ('Back', 'Back to previous …",
      "application/vnd.jupyter.widget-view+json": {
       "version_major": 2,
       "version_minor": 0,
       "model_id": "f92b4d85505c4ed8b6f98141016e01d4"
      }
     },
     "metadata": {}
    },
    {
     "output_type": "execute_result",
     "data": {
      "text/plain": "Text(0.5, 0, 'Time')"
     },
     "metadata": {},
     "execution_count": 5
    }
   ],
   "source": [
    "# Reset vars with values\n",
    "# Add parameter vars\n",
    "modelpc.alpha1 = 0.6 # MPC of income\n",
    "modelpc.alpha2 = 0.4 # MPC of wealth\n",
    "\n",
    "modelpc.setTime(100)\n",
    "modelpc.G.setTime(100, val = 20)\n",
    "modelpc.G.val[0:2] = 0\n",
    "modelpc.r.setTime(100, val = .025)\n",
    "\n",
    "# Set steady state\n",
    "modelpc.run(t = range(1, 50), rep=20)\n",
    "\n",
    "# Add change mpc\n",
    "modelpc.alpha1 = 0.7 # MPC of income\n",
    "# modelpc.alpha2 = 0.1 # MPC of wealth\n",
    "\n",
    "# Run rest\n",
    "modelpc.run(t = range(50, 100), rep=20)\n",
    "\n",
    "pcres = pd.DataFrame.from_dict(modelpc.getRes())\n",
    "pl = pcres[30:100][['Y', 'YD', 'C', 'V']].plot()\n",
    "pl.axhline(y=pcres.loc[49, 'Y'], xmin = 0, xmax = 100, color='r', linestyle='--', lw=1)\n",
    "pl.axhline(y=pcres.loc[49, 'C'], xmin = 0, xmax = 100, color='lime', linestyle='--', lw=1)\n",
    "pl.set_title('Main stocks reaction on MPC change')\n",
    "pl.set_ylabel('Value')\n",
    "pl.set_xlabel('Time')"
   ]
  },
  {
   "source": [
    "Add expectations to the model and shock MPC out of income"
   ],
   "cell_type": "markdown",
   "metadata": {}
  },
  {
   "cell_type": "code",
   "execution_count": 6,
   "metadata": {},
   "outputs": [],
   "source": [
    "# Define SIM model\n",
    "modelpcex = Varspace()\n",
    "\n",
    "# Add parameter vars\n",
    "modelpcex.theta = 0.2 # Tax rate\n",
    "modelpcex.alpha2 = 0.4 # consumption of wealth\n",
    "\n",
    "# Add coeffs\n",
    "modelpcex.l0 = 0.5 # Proportion of money\n",
    "modelpcex.l1 = 0.25\n",
    "modelpcex.l2 = 0.25\n",
    "\n",
    "# Add exogenous vars\n",
    "modelpcex.G = TimeVar(\"Government exp.\")\n",
    "modelpcex.r = TimeVar(\"Interest rate\")\n",
    "modelpcex.alpha1 = TimeVar(\"MPC\")\n",
    "\n",
    "# Define equations\n",
    "modelpcex.gauss = random.gauss\n",
    "modelpcex.addEq('RAND', lambda t: gauss(0, 0.02))\n",
    "modelpcex.addEq('Y', lambda t: C(t) + G(t))\n",
    "modelpcex.addEq('YD', lambda t: Y(t) - T(t) + r(t-1) * Bh(t-1))\n",
    "modelpcex.addEq('T', lambda t: theta * (Y(t) + r(t-1) * Bh(t-1)))\n",
    "modelpcex.addEq('V', lambda t: V(t-1) + (YD(t) - C(t)))\n",
    "modelpcex.addEq('C', lambda t: alpha1(t) * YDe(t) + alpha2 * V(t-1))\n",
    "modelpcex.addEq('Bd', lambda t: Ve(t) * l0 + V(t) * l1 * r(t) - l2 * YDe(t))\n",
    "modelpcex.addEq('Hd', lambda t: Ve(t) - Bd(t))\n",
    "modelpcex.addEq('Ve', lambda t: V(t-1) + YDe(t) - C(t))\n",
    "modelpcex.addEq('Hh', lambda t: V(t) - Bh(t))\n",
    "modelpcex.addEq('Bh', lambda t: Bd(t))\n",
    "modelpcex.addEq('Bs', lambda t: (G(t) + r(t-1) * Bs(t-1)) - (T(t) + r(t-1) * Bcb(t-1)) + Bs(t-1))\n",
    "modelpcex.addEq('Hs', lambda t: (Bcb(t) - Bcb(t-1)) + Hs(t-1))\n",
    "modelpcex.addEq('Bcb', lambda t: Bs(t) - Bh(t))\n",
    "modelpcex.addEq('YDe', lambda t: YD(t) * (1 + RAND(t)))\n",
    "\n",
    "# Reset vars with values\n",
    "nPeriods = 200\n",
    "modelpcex.setTime(nPeriods)\n",
    "modelpcex.G.setTime(nPeriods, val = 20)\n",
    "modelpcex.G.val[0:2] = 0\n",
    "modelpcex.r.setTime(nPeriods, val = .025)\n",
    "modelpcex.alpha1.setTime(nPeriods, val = .6)\n",
    "modelpcex.alpha1.val[100:nPeriods] = .7\n",
    "\n",
    "\n",
    "# Simulate\n",
    "modelpcex.run(t = range(1, nPeriods), rep=20)"
   ]
  },
  {
   "cell_type": "code",
   "execution_count": 7,
   "metadata": {},
   "outputs": [
    {
     "output_type": "display_data",
     "data": {
      "text/plain": "Canvas(toolbar=Toolbar(toolitems=[('Home', 'Reset original view', 'home', 'home'), ('Back', 'Back to previous …",
      "application/vnd.jupyter.widget-view+json": {
       "version_major": 2,
       "version_minor": 0,
       "model_id": "db4e40c7cb964bd1af43f70f22017824"
      }
     },
     "metadata": {}
    },
    {
     "output_type": "execute_result",
     "data": {
      "text/plain": "<matplotlib.axes._subplots.AxesSubplot at 0x16ec839c908>"
     },
     "metadata": {},
     "execution_count": 7
    }
   ],
   "source": [
    "pcexres = pd.DataFrame.from_dict(modelpcex.getRes())\n",
    "pcexres[75:150][['Y', 'C', 'V']].plot()"
   ]
  },
  {
   "cell_type": "code",
   "execution_count": 8,
   "metadata": {},
   "outputs": [
    {
     "output_type": "display_data",
     "data": {
      "text/plain": "Canvas(toolbar=Toolbar(toolitems=[('Home', 'Reset original view', 'home', 'home'), ('Back', 'Back to previous …",
      "application/vnd.jupyter.widget-view+json": {
       "version_major": 2,
       "version_minor": 0,
       "model_id": "8773892ea9654cd084736c0981e587b8"
      }
     },
     "metadata": {}
    },
    {
     "output_type": "execute_result",
     "data": {
      "text/plain": "<matplotlib.axes._subplots.AxesSubplot at 0x16ec83d53c8>"
     },
     "metadata": {},
     "execution_count": 8
    }
   ],
   "source": [
    "pcexres[['Y', 'C', 'V', 'YD', 'T']].plot()"
   ]
  },
  {
   "cell_type": "code",
   "execution_count": 9,
   "metadata": {},
   "outputs": [
    {
     "output_type": "display_data",
     "data": {
      "text/plain": "Canvas(toolbar=Toolbar(toolitems=[('Home', 'Reset original view', 'home', 'home'), ('Back', 'Back to previous …",
      "application/vnd.jupyter.widget-view+json": {
       "version_major": 2,
       "version_minor": 0,
       "model_id": "0d1fbd0b0bdc457f9de886962525dad2"
      }
     },
     "metadata": {}
    },
    {
     "output_type": "execute_result",
     "data": {
      "text/plain": "Text(0.5, 0, 'Time')"
     },
     "metadata": {},
     "execution_count": 9
    }
   ],
   "source": [
    "exV = pcexres[['Bd', 'Hd', 'Bs', 'Hs', 'Bd', 'Hd', 'Bcb']].plot()\n",
    "exV.set_title('Wealth and its components')\n",
    "exV.set_ylabel('Value')\n",
    "exV.set_xlabel('Time')"
   ]
  },
  {
   "cell_type": "code",
   "execution_count": null,
   "metadata": {},
   "outputs": [],
   "source": []
  }
 ]
}